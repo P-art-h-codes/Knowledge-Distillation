{
 "cells": [
  {
   "cell_type": "code",
   "execution_count": 1,
   "id": "f7901a0c-11be-4227-8485-2ca0e4a57e6e",
   "metadata": {
    "tags": []
   },
   "outputs": [],
   "source": [
    "import torch\n",
    "import torch.nn as nn\n",
    "import torchvision.models as models\n",
    "import torchvision.transforms as transforms\n",
    "import torch.optim as optim\n",
    "import torchvision.datasets as datasets"
   ]
  },
  {
   "cell_type": "code",
   "execution_count": 2,
   "id": "1d068f54-31fb-479e-ad0f-33adbfe42300",
   "metadata": {
    "tags": []
   },
   "outputs": [],
   "source": [
    "# Check if GPU is available\n",
    "device = torch.device(\"cuda\" if torch.cuda.is_available() else \"cpu\")"
   ]
  },
  {
   "cell_type": "code",
   "execution_count": 2,
   "id": "eed26e13-5c3e-4a8e-a5a6-26688e140f54",
   "metadata": {
    "tags": []
   },
   "outputs": [],
   "source": [
    "#random seeds\n",
    "torch.manual_seed(42)\n",
    "np.random.seed(42)"
   ]
  },
  {
   "cell_type": "markdown",
   "id": "c6b40956-d90f-42c8-9245-31d1e54448ef",
   "metadata": {
    "tags": []
   },
   "source": [
    "## Teacher Model (ResNet18)"
   ]
  },
  {
   "cell_type": "code",
   "execution_count": null,
   "id": "b771c27f-a186-4ca4-8e3c-ca8c1f6d7502",
   "metadata": {
    "tags": []
   },
   "outputs": [],
   "source": [
    "# Load the pre-trained ResNet model\n",
    "resnet = models.resnet18(pretrained=True)"
   ]
  },
  {
   "cell_type": "code",
   "execution_count": 4,
   "id": "520d57a4-2e58-431b-a1ac-b652459b8435",
   "metadata": {
    "tags": []
   },
   "outputs": [],
   "source": [
    "# Freeze all layers except the last one\n",
    "for param in resnet.parameters():\n",
    "    param.requires_grad = False"
   ]
  },
  {
   "cell_type": "code",
   "execution_count": 5,
   "id": "e0c8eb3c-698a-4acf-9478-b2ad3a3368e7",
   "metadata": {
    "tags": []
   },
   "outputs": [],
   "source": [
    "# Replace the last fully connected layer with a new one\n",
    "num_ftrs = resnet.fc.in_features\n",
    "num_classes = 10  # Assuming 10 classes for example\n",
    "resnet.fc = nn.Linear(num_ftrs, num_classes)"
   ]
  },
  {
   "cell_type": "code",
   "execution_count": 6,
   "id": "e3c849e2-391b-466f-851b-3454da63578c",
   "metadata": {
    "tags": []
   },
   "outputs": [],
   "source": [
    "# Transfer the model to the GPU\n",
    "resnet = resnet.to(device)"
   ]
  },
  {
   "cell_type": "code",
   "execution_count": 7,
   "id": "8a4c3334-9c7a-4374-af5e-0dfab278b266",
   "metadata": {
    "tags": []
   },
   "outputs": [],
   "source": [
    "# Define loss function and optimizer\n",
    "criterion = nn.CrossEntropyLoss()\n",
    "optimizer = optim.SGD(resnet.fc.parameters(), lr=0.001, momentum=0.9)"
   ]
  },
  {
   "cell_type": "code",
   "execution_count": 12,
   "id": "3c7fb6a4-be11-48b1-a2e4-15bc0c5e7ccb",
   "metadata": {
    "tags": []
   },
   "outputs": [],
   "source": [
    "# Load your custom dataset\n",
    "train_dataset = datasets.CIFAR10(root='./data', transform=transforms.Compose([\n",
    "                                            transforms.Resize(256),\n",
    "                                            transforms.CenterCrop(224),\n",
    "                                            transforms.ToTensor(),\n",
    "                                            transforms.Normalize(mean=[0.485, 0.456, 0.406],\n",
    "                                                                 std=[0.229, 0.224, 0.225])]))"
   ]
  },
  {
   "cell_type": "code",
   "execution_count": 13,
   "id": "d5c215b4-ef09-47fc-86a4-fc82142f183e",
   "metadata": {
    "tags": []
   },
   "outputs": [],
   "source": [
    "# Define DataLoader\n",
    "batch_size = 32  # Adjust batch size according to your GPU memory\n",
    "train_loader = torch.utils.data.DataLoader(train_dataset, batch_size=batch_size, shuffle=True)"
   ]
  },
  {
   "cell_type": "code",
   "execution_count": 14,
   "id": "0d0fe927-73fe-4bd7-9e07-6e976e8c185b",
   "metadata": {
    "tags": []
   },
   "outputs": [
    {
     "name": "stdout",
     "output_type": "stream",
     "text": [
      "Epoch [1/10], Loss: 0.9527\n",
      "Epoch [2/10], Loss: 0.7423\n",
      "Epoch [3/10], Loss: 0.7051\n",
      "Epoch [4/10], Loss: 0.6883\n",
      "Epoch [5/10], Loss: 0.6724\n",
      "Epoch [6/10], Loss: 0.6670\n",
      "Epoch [7/10], Loss: 0.6596\n",
      "Epoch [8/10], Loss: 0.6547\n",
      "Epoch [9/10], Loss: 0.6530\n",
      "Epoch [10/10], Loss: 0.6480\n",
      "Finished Training\n"
     ]
    }
   ],
   "source": [
    "# Train the model\n",
    "num_epochs = 10\n",
    "for epoch in range(num_epochs):\n",
    "    running_loss = 0.0\n",
    "    for inputs, labels in train_loader:\n",
    "        inputs, labels = inputs.to(device), labels.to(device)  # Transfer data to GPU\n",
    "        optimizer.zero_grad()\n",
    "        outputs = resnet(inputs)\n",
    "        loss = criterion(outputs, labels)\n",
    "        loss.backward()\n",
    "        optimizer.step()\n",
    "        \n",
    "        running_loss += loss.item() * inputs.size(0)\n",
    "    \n",
    "    epoch_loss = running_loss / len(train_loader.dataset)\n",
    "    print(f\"Epoch [{epoch + 1}/{num_epochs}], Loss: {epoch_loss:.4f}\")\n",
    "\n",
    "print('Finished Training')"
   ]
  },
  {
   "cell_type": "code",
   "execution_count": 17,
   "id": "02d89671-92e3-4a19-afa0-70aa6a24036a",
   "metadata": {
    "tags": []
   },
   "outputs": [],
   "source": [
    "# Set the model to evaluation mode\n",
    "resnet.eval()\n",
    "\n",
    "# Load your test dataset\n",
    "test_dataset = datasets.CIFAR10(root='./data', transform=transforms.Compose([\n",
    "                                            transforms.Resize(256),\n",
    "                                            transforms.CenterCrop(224),\n",
    "                                            transforms.ToTensor(),\n",
    "                                            transforms.Normalize(mean=[0.485, 0.456, 0.406],\n",
    "                                                                 std=[0.229, 0.224, 0.225])]))\n",
    "\n",
    "# Define DataLoader for test data\n",
    "test_loader = torch.utils.data.DataLoader(test_dataset, batch_size=batch_size, shuffle=False)\n"
   ]
  },
  {
   "cell_type": "code",
   "execution_count": 19,
   "id": "95cdef17-1418-4c10-bdc0-784cf776cb65",
   "metadata": {
    "tags": []
   },
   "outputs": [
    {
     "name": "stdout",
     "output_type": "stream",
     "text": [
      "Accuracy of the network on the test images: 79 %\n"
     ]
    }
   ],
   "source": [
    "# Evaluate the model on test data\n",
    "correct = 0\n",
    "total = 0\n",
    "with torch.no_grad():\n",
    "    for images, labels in test_loader:\n",
    "        images, labels = images.to(device), labels.to(device)  # Transfer data to GPU\n",
    "        outputs =resnet(images)\n",
    "        _, predicted = torch.max(outputs.data, 1)\n",
    "        total += labels.size(0)\n",
    "        correct += (predicted == labels).sum().item()\n",
    "\n",
    "accuracy = 100 * correct / total\n",
    "print('Accuracy of the network on the test images: %d %%' % accuracy)"
   ]
  },
  {
   "cell_type": "markdown",
   "id": "26c8893e-864c-4bc4-8f8a-fc9a3d20073a",
   "metadata": {},
   "source": [
    "## Student Model"
   ]
  },
  {
   "cell_type": "code",
   "execution_count": 31,
   "id": "3431fb8d-1463-4250-9904-2a657cc9f64d",
   "metadata": {
    "tags": []
   },
   "outputs": [
    {
     "name": "stdout",
     "output_type": "stream",
     "text": [
      "Files already downloaded and verified\n",
      "Files already downloaded and verified\n"
     ]
    }
   ],
   "source": [
    "# Below we are preprocessing data for CIFAR-10. We use an arbitrary batch size of 128.\n",
    "transforms_cifar = transforms.Compose([\n",
    "    transforms.ToTensor(),\n",
    "    transforms.Normalize(mean=[0.485, 0.456, 0.406], std=[0.229, 0.224, 0.225]),\n",
    "])\n",
    "\n",
    "# Loading the CIFAR-10 dataset:\n",
    "train_dataset = datasets.CIFAR10(root='./data', train=True, download=True, transform=transforms_cifar)\n",
    "test_dataset = datasets.CIFAR10(root='./data', train=False, download=True, transform=transforms_cifar)"
   ]
  },
  {
   "cell_type": "code",
   "execution_count": 32,
   "id": "80873dc8-7fda-44b5-975d-672c4cc23814",
   "metadata": {
    "tags": []
   },
   "outputs": [],
   "source": [
    "#Dataloaders\n",
    "train_loader = torch.utils.data.DataLoader(train_dataset, batch_size=128, shuffle=True, num_workers=2)\n",
    "test_loader = torch.utils.data.DataLoader(test_dataset, batch_size=128, shuffle=False, num_workers=2)\n"
   ]
  },
  {
   "cell_type": "code",
   "execution_count": 33,
   "id": "aa9b5d0d-448b-4388-990a-b71929b0143d",
   "metadata": {
    "tags": []
   },
   "outputs": [],
   "source": [
    "# Lightweight neural network class to be used as student:\n",
    "class LightNN(nn.Module):\n",
    "    def __init__(self, num_classes=10):\n",
    "        super(LightNN, self).__init__()\n",
    "        self.features = nn.Sequential(\n",
    "            nn.Conv2d(3, 16, kernel_size=3, padding=1),\n",
    "            nn.ReLU(),\n",
    "            nn.MaxPool2d(kernel_size=2, stride=2),\n",
    "            nn.Conv2d(16, 16, kernel_size=3, padding=1),\n",
    "            nn.ReLU(),\n",
    "            nn.MaxPool2d(kernel_size=2, stride=2),\n",
    "        )\n",
    "        self.classifier = nn.Sequential(\n",
    "            nn.Linear(1024, 256),\n",
    "            nn.ReLU(),\n",
    "            nn.Dropout(0.1),\n",
    "            nn.Linear(256, num_classes)\n",
    "        )\n",
    "\n",
    "    def forward(self, x):\n",
    "        x = self.features(x)\n",
    "        x = torch.flatten(x, 1)\n",
    "        x = self.classifier(x)\n",
    "        return x"
   ]
  },
  {
   "cell_type": "code",
   "execution_count": 34,
   "id": "f74afca8-4482-421f-9591-720e5c7c281f",
   "metadata": {
    "tags": []
   },
   "outputs": [],
   "source": [
    "def train(model, train_loader, epochs, learning_rate, device):\n",
    "    criterion = nn.CrossEntropyLoss()\n",
    "    optimizer = optim.Adam(model.parameters(), lr=learning_rate)\n",
    "\n",
    "    model.train()\n",
    "\n",
    "    for epoch in range(epochs):\n",
    "        running_loss = 0.0\n",
    "        for inputs, labels in train_loader:\n",
    "            # inputs: A collection of batch_size images\n",
    "            # labels: A vector of dimensionality batch_size with integers denoting class of each image\n",
    "            inputs, labels = inputs.to(device), labels.to(device)\n",
    "\n",
    "            optimizer.zero_grad()\n",
    "            outputs = model(inputs)\n",
    "\n",
    "            # outputs: Output of the network for the collection of images. A tensor of dimensionality batch_size x num_classes\n",
    "            # labels: The actual labels of the images. Vector of dimensionality batch_size\n",
    "            loss = criterion(outputs, labels)\n",
    "            loss.backward()\n",
    "            optimizer.step()\n",
    "\n",
    "            running_loss += loss.item()\n",
    "\n",
    "        print(f\"Epoch {epoch+1}/{epochs}, Loss: {running_loss / len(train_loader)}\")\n",
    "\n",
    "def test(model, test_loader, device):\n",
    "    model.to(device)\n",
    "    model.eval()\n",
    "\n",
    "    correct = 0\n",
    "    total = 0\n",
    "\n",
    "    with torch.no_grad():\n",
    "        for inputs, labels in test_loader:\n",
    "            inputs, labels = inputs.to(device), labels.to(device)\n",
    "\n",
    "            outputs = model(inputs)\n",
    "            _, predicted = torch.max(outputs.data, 1)\n",
    "\n",
    "            total += labels.size(0)\n",
    "            correct += (predicted == labels).sum().item()\n",
    "\n",
    "    accuracy = 100 * correct / total\n",
    "    print(f\"Test Accuracy: {accuracy:.2f}%\")\n",
    "    return accuracy"
   ]
  },
  {
   "cell_type": "code",
   "execution_count": 35,
   "id": "af0caddb-1ef6-46bd-b59a-4a617c6d5317",
   "metadata": {
    "tags": []
   },
   "outputs": [],
   "source": [
    "# Instantiate the lightweight network:\n",
    "torch.manual_seed(42)\n",
    "nn_light = LightNN().to(device)"
   ]
  },
  {
   "cell_type": "code",
   "execution_count": 36,
   "id": "8b2dcf3e-be31-4d7c-b5e1-6b2bddd7d9f6",
   "metadata": {
    "tags": []
   },
   "outputs": [
    {
     "name": "stdout",
     "output_type": "stream",
     "text": [
      "Epoch 1/10, Loss: 1.4696010293253243\n",
      "Epoch 2/10, Loss: 1.1599607729850827\n",
      "Epoch 3/10, Loss: 1.031422875878756\n",
      "Epoch 4/10, Loss: 0.9300340305813743\n",
      "Epoch 5/10, Loss: 0.8561210892999264\n",
      "Epoch 6/10, Loss: 0.7905343470670988\n",
      "Epoch 7/10, Loss: 0.7257177899865543\n",
      "Epoch 8/10, Loss: 0.6702893704861936\n",
      "Epoch 9/10, Loss: 0.6185725430393463\n",
      "Epoch 10/10, Loss: 0.5673962647805129\n",
      "Test Accuracy: 70.54%\n"
     ]
    }
   ],
   "source": [
    "# Training Student Model\n",
    "train(nn_light, train_loader, epochs=10, learning_rate=0.001, device=device)\n",
    "test_accuracy_light_ce = test(nn_light, test_loader, device)"
   ]
  },
  {
   "cell_type": "code",
   "execution_count": 38,
   "id": "224e4440-ded4-4201-94ee-a85259b00267",
   "metadata": {
    "tags": []
   },
   "outputs": [
    {
     "name": "stdout",
     "output_type": "stream",
     "text": [
      "Teacher accuracy: 79%\n",
      "Student accuracy: 70.54%\n"
     ]
    }
   ],
   "source": [
    "print(f\"Teacher accuracy: 79%\")\n",
    "print(f\"Student accuracy: {test_accuracy_light_ce:.2f}%\")"
   ]
  },
  {
   "cell_type": "markdown",
   "id": "c8100eaf-c3f5-4240-8da1-352d1f8a9714",
   "metadata": {
    "tags": []
   },
   "source": [
    "## Student Model with Knowledge Distillation"
   ]
  },
  {
   "cell_type": "code",
   "execution_count": 40,
   "id": "bd6bff32-9c32-487b-9f1e-0bfa12949876",
   "metadata": {
    "tags": []
   },
   "outputs": [],
   "source": [
    "# New Light Model\n",
    "torch.manual_seed(42)\n",
    "new_nn_light = LightNN(num_classes=10).to(device)"
   ]
  },
  {
   "cell_type": "code",
   "execution_count": 41,
   "id": "31e9bc74-4ad6-42bf-84c6-a1c637789adb",
   "metadata": {
    "tags": []
   },
   "outputs": [],
   "source": [
    "def train_knowledge_distillation(teacher, student, train_loader, epochs, learning_rate, T, soft_target_loss_weight, ce_loss_weight, device):\n",
    "    ce_loss = nn.CrossEntropyLoss()\n",
    "    optimizer = optim.Adam(student.parameters(), lr=learning_rate)\n",
    "\n",
    "    teacher.eval()  # Teacher set to evaluation mode\n",
    "    student.train() # Student to train mode\n",
    "\n",
    "    for epoch in range(epochs):\n",
    "        running_loss = 0.0\n",
    "        for inputs, labels in train_loader:\n",
    "            inputs, labels = inputs.to(device), labels.to(device)\n",
    "\n",
    "            optimizer.zero_grad()\n",
    "\n",
    "            # Forward pass with the teacher model - do not save gradients here as we do not change the teacher's weights\n",
    "            with torch.no_grad():\n",
    "                teacher_logits = teacher(inputs)\n",
    "\n",
    "            # Forward pass with the student model\n",
    "            student_logits = student(inputs)\n",
    "\n",
    "            #Soften the student logits by applying softmax first and log() second\n",
    "            soft_targets = nn.functional.softmax(teacher_logits / T, dim=-1)\n",
    "            soft_prob = nn.functional.log_softmax(student_logits / T, dim=-1)\n",
    "\n",
    "            # Calculate the soft targets loss. Scaled by T**2 as suggested by the authors of the paper \"Distilling the knowledge in a neural network\"\n",
    "            soft_targets_loss = torch.sum(soft_targets * (soft_targets.log() - soft_prob)) / soft_prob.size()[0] * (T**2)\n",
    "\n",
    "            # Calculate the true label loss\n",
    "            label_loss = ce_loss(student_logits, labels)\n",
    "\n",
    "            # Weighted sum of the two losses\n",
    "            loss = soft_target_loss_weight * soft_targets_loss + ce_loss_weight * label_loss\n",
    "\n",
    "            loss.backward()\n",
    "            optimizer.step()\n",
    "\n",
    "            running_loss += loss.item()\n",
    "\n",
    "        print(f\"Epoch {epoch+1}/{epochs}, Loss: {running_loss / len(train_loader)}\")"
   ]
  },
  {
   "cell_type": "code",
   "execution_count": 42,
   "id": "353cef64-1f4b-4ac8-90e7-5359c62c95e9",
   "metadata": {
    "tags": []
   },
   "outputs": [
    {
     "name": "stdout",
     "output_type": "stream",
     "text": [
      "Epoch 1/10, Loss: 1.6131410138381412\n",
      "Epoch 2/10, Loss: 1.3859690101555242\n",
      "Epoch 3/10, Loss: 1.2988521235678203\n",
      "Epoch 4/10, Loss: 1.2367138804682076\n",
      "Epoch 5/10, Loss: 1.1921843900095166\n",
      "Epoch 6/10, Loss: 1.1545858133174574\n",
      "Epoch 7/10, Loss: 1.118700791045528\n",
      "Epoch 8/10, Loss: 1.091860987188871\n",
      "Epoch 9/10, Loss: 1.0659223573896892\n",
      "Epoch 10/10, Loss: 1.038486744589208\n",
      "Test Accuracy: 66.52%\n",
      "Teacher accuracy: 79%\n",
      "Student accuracy without teacher: 70.54%\n",
      "Student accuracy with CE + KD: 66.52%\n"
     ]
    }
   ],
   "source": [
    "# Apply ``train_knowledge_distillation`` with a temperature of 2. Arbitrarily set the weights to 0.75 for CE and 0.25 for distillation loss.\n",
    "train_knowledge_distillation(teacher=resnet, student=new_nn_light, train_loader=train_loader, epochs=10, learning_rate=0.001, T=2, soft_target_loss_weight=0.25, ce_loss_weight=0.75, device=device)\n",
    "test_accuracy_light_ce_and_kd = test(new_nn_light, test_loader, device)\n",
    "\n",
    "# Compare the student test accuracy with and without the teacher, after distillation\n",
    "print(f\"Teacher accuracy: 79%\")\n",
    "print(f\"Student accuracy without teacher: {test_accuracy_light_ce:.2f}%\")\n",
    "print(f\"Student accuracy with CE + KD: {test_accuracy_light_ce_and_kd:.2f}%\")"
   ]
  },
  {
   "cell_type": "markdown",
   "id": "21653169-3463-42ac-8bdd-c9244911d7f1",
   "metadata": {},
   "source": [
    "## Results on ResNet18"
   ]
  },
  {
   "cell_type": "code",
   "execution_count": 43,
   "id": "92695b7b-e869-4ee0-9411-e970b7389ef6",
   "metadata": {
    "tags": []
   },
   "outputs": [
    {
     "name": "stdout",
     "output_type": "stream",
     "text": [
      "Teacher parameters: 11,181,642\n",
      "LightNN parameters: 267,738\n"
     ]
    }
   ],
   "source": [
    "total_params_resnet = \"{:,}\".format(sum(p.numel() for p in resnet.parameters()))\n",
    "print(f\"Teacher parameters: {total_params_resnet}\")\n",
    "total_params_light = \"{:,}\".format(sum(p.numel() for p in nn_light.parameters()))\n",
    "print(f\"LightNN parameters: {total_params_light}\")"
   ]
  },
  {
   "cell_type": "markdown",
   "id": "a7b22504-c9fe-4888-b3a0-ae9d4b27b7c2",
   "metadata": {},
   "source": [
    "Teacher accuracy: 79% \n",
    "\n",
    "Student accuracy without teacher: 70.54%\n",
    "\n",
    "Student accuracy with CE + KD: 66.52%"
   ]
  },
  {
   "cell_type": "code",
   "execution_count": null,
   "id": "9097c615-009b-4ba7-a796-3461a5d3a4f3",
   "metadata": {},
   "outputs": [],
   "source": []
  }
 ],
 "metadata": {
  "kernelspec": {
   "display_name": "Python 3 (ipykernel)",
   "language": "python",
   "name": "python3"
  },
  "language_info": {
   "codemirror_mode": {
    "name": "ipython",
    "version": 3
   },
   "file_extension": ".py",
   "mimetype": "text/x-python",
   "name": "python",
   "nbconvert_exporter": "python",
   "pygments_lexer": "ipython3",
   "version": "3.11.5"
  }
 },
 "nbformat": 4,
 "nbformat_minor": 5
}
